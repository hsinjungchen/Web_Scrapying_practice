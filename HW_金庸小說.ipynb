{
 "cells": [
  {
   "cell_type": "code",
   "execution_count": 35,
   "metadata": {},
   "outputs": [],
   "source": [
    "from bs4 import BeautifulSoup\n",
    "import requests,json,pprint\n",
    "\n",
    "my_headers = {\n",
    "    'user-agent' :'Mozilla/5.0 (Macintosh; Intel Mac OS X 11_2_1) AppleWebKit/537.36 (KHTML, like Gecko) Chrome/88.0.4324.192 Safari/537.36'\n",
    "}\n",
    "\n",
    "\n",
    "listBook = []\n",
    "listLinkBook = []\n",
    "def get_book():\n",
    "    response = requests.get('https://www.bookwormzz.com/zh' , headers = my_headers)\n",
    "    soup = BeautifulSoup(response.text, \"lxml\")\n",
    "    for a in soup.select('li a'):\n",
    "        listBook.append(a.get_text())\n",
    "        listLinkBook.append(\"https://www.bookwormzz.com/\" + a[\"href\"].replace(\"../\",\"\")+\"#book_toc\")\n",
    "    \n",
    "#     pprint.pprint(listBook)\n",
    "#     pprint.pprint(listLinkBook)\n",
    "\n",
    "\n",
    "listChapter = []\n",
    "listLinkChapter = []\n",
    "def get_chapter():\n",
    "    for i in range(0,46):\n",
    "        response = requests.get(listLinkBook[i])\n",
    "        soup = BeautifulSoup(response.text, 'lxml')\n",
    "        for ch in soup.select('div[data-theme=\"b\"][data-content-theme=\"c\"] ul > li > a[rel=\"external\"]'):\n",
    "            listChapter.append(listBook[i]+\"_\"+ch.get_text().replace(\"\\u3000\",\"\"))\n",
    "            listLinkChapter.append({\"link\" : \"https://www.bookwormzz.com/\" + ch[\"href\"]})\n",
    "            \n",
    "#     pprint.pprint(listChapter)\n",
    "#     pprint.pprint(listLinkChapter)\n",
    "\n",
    "\n",
    "def get_data():\n",
    "    for index,Dict in enumerate(listLinkChapter):\n",
    "        response = requests.get(Dict[\"link\"])\n",
    "        soup = BeautifulSoup(response.text, 'lxml')\n",
    "        BOOK = soup.select('div#html div')[0].get_text()\n",
    "#         print(soup.select('div#html div')[0].get_text())\n",
    "#         print(\"=\"*50)\n",
    "#     for i in range(0,977):\n",
    "        f = open(f'C:/Users/Student/python_web_scraping-master/book/{listChapter[index]}.txt' , 'w',encoding='utf-8')\n",
    "        f.write(BOOK)\n",
    "    \n",
    "        \n",
    "# def saveJson():\n",
    "#     fp = open(\"book.json\", \"w\", encoding='utf-8')    #\"w\"write:寫入Json\n",
    "#     fp.write( json.dumps(listData, ensure_ascii=False) )\n",
    "#     fp.close()\n",
    "        \n",
    "if __name__ == \"__main__\":\n",
    "    get_book()\n",
    "    get_chapter()\n",
    "    get_data()\n",
    "#     saveJson()"
   ]
  },
  {
   "cell_type": "code",
   "execution_count": 22,
   "metadata": {},
   "outputs": [
    {
     "data": {
      "text/plain": [
       "977"
      ]
     },
     "execution_count": 22,
     "metadata": {},
     "output_type": "execute_result"
    }
   ],
   "source": [
    "len(listChapter)"
   ]
  }
 ],
 "metadata": {
  "kernelspec": {
   "display_name": "Python 3",
   "language": "python",
   "name": "python3"
  },
  "language_info": {
   "codemirror_mode": {
    "name": "ipython",
    "version": 3
   },
   "file_extension": ".py",
   "mimetype": "text/x-python",
   "name": "python",
   "nbconvert_exporter": "python",
   "pygments_lexer": "ipython3",
   "version": "3.8.5"
  }
 },
 "nbformat": 4,
 "nbformat_minor": 4
}
