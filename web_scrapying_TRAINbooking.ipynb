{
 "cells": [
  {
   "cell_type": "markdown",
   "id": "48a2142d",
   "metadata": {},
   "source": [
    "### 台鐵訂票練練\n"
   ]
  },
  {
   "cell_type": "code",
   "execution_count": 1,
   "id": "a23567a9",
   "metadata": {},
   "outputs": [],
   "source": [
    "# !pip install selenium  --y\n",
    "from selenium import webdriver\n",
    "from selenium.common.exceptions import TimeoutException\n",
    "from selenium.webdriver.support.ui import WebDriverWait\n",
    "from selenium.webdriver.support import expected_conditions as EC\n",
    "from selenium.webdriver.common.by import By\n",
    "from time import sleep"
   ]
  },
  {
   "cell_type": "code",
   "execution_count": 4,
   "id": "ec7207b8",
   "metadata": {},
   "outputs": [],
   "source": [
    "# 啟動瀏覽器工具的選項\n",
    "options = webdriver.ChromeOptions()\n",
    "\n",
    "# options.add_argument(\"--headless\")                #不開啟實體瀏覽器背景執行\n",
    "# options.add_argument(\"--start-maximized\")         #最大化視窗\n",
    "options.add_argument(\"--incognito\")               #開啟無痕模式\n",
    "# options.add_argument(\"--disable-popup-blocking \") #禁用彈出攔截\n",
    "\n",
    "# 使用 Chrome 的 WebDriver (含 options)\n",
    "# driver = webdriver.Chrome(/Users/chenhsinjung/chromedriver)\n",
    "driver = webdriver.Chrome( options = options )\n",
    "\n",
    "# 走訪頁面\n",
    "def visit():\n",
    "    driver.get(\"https://www.railway.gov.tw/tra-tip-web/tip/tip001/tip121/query\")\n",
    "\n",
    "    \n",
    "# 輸入資訊\n",
    "def search():\n",
    "    \n",
    "    #填ID\n",
    "    idInput = driver.find_element(By.CSS_SELECTOR, \"input#pid\")\n",
    "    idInput.send_keys(\"F129678659\")\n",
    "    sleep(0.5)\n",
    "    \n",
    "    #選出發地\n",
    "    startStation = driver.find_element(By.CSS_SELECTOR, \"input#startStation\")\n",
    "    startStation.send_keys(\"1000-臺北\")\n",
    "    sleep(0.5)\n",
    "    \n",
    "    #選出發地\n",
    "    endStation = driver.find_element(By.CSS_SELECTOR, \"input#endStation\")\n",
    "    endStation.send_keys(\"6000-臺東\")\n",
    "    sleep(0.5)\n",
    "    \n",
    "    #訂票方式\n",
    "    driver.find_element(By.CSS_SELECTOR, \"div.btn-group label.btn.btn-lg.btn-linear.active\").click()\n",
    "    sleep(0.5)\n",
    "    \n",
    "    #選出發日期\n",
    "    rideDate = driver.find_element(By.CSS_SELECTOR, \"div.input-wrapper input.rideDate\")\n",
    "    rideDate.clear()\n",
    "    rideDate.send_keys(\"20210611\")\n",
    "    sleep(0.5)\n",
    "   \n",
    "    #車次\n",
    "    TrainNo = driver.find_element(By.CSS_SELECTOR, \"div.zone.byTrainNo input.form-control.input-small.trainNoList.train1\")\n",
    "    TrainNo.send_keys(\"406\")\n",
    "    sleep(0.5)\n",
    "    \n",
    "    #確認\n",
    "    driver.find_element(By.CSS_SELECTOR, \"input.btn.btn-3d\").click()\n",
    "    \n",
    "    \n",
    "    \n",
    "\n",
    "# 主程式\n",
    "if __name__ == '__main__':\n",
    "    visit()\n",
    "    search()"
   ]
  }
 ],
 "metadata": {
  "kernelspec": {
   "display_name": "Python 3",
   "language": "python",
   "name": "python3"
  },
  "language_info": {
   "codemirror_mode": {
    "name": "ipython",
    "version": 3
   },
   "file_extension": ".py",
   "mimetype": "text/x-python",
   "name": "python",
   "nbconvert_exporter": "python",
   "pygments_lexer": "ipython3",
   "version": "3.7.10"
  }
 },
 "nbformat": 4,
 "nbformat_minor": 5
}