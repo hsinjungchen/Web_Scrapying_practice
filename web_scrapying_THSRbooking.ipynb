{
 "cells": [
  {
   "cell_type": "markdown",
   "metadata": {
    "collapsed": true,
    "pycharm": {
     "name": "#%% md\n"
    }
   },
   "source": [
    "### 高鐵訂票練練"
   ]
  },
  {
   "cell_type": "code",
   "execution_count": 1,
   "metadata": {
    "pycharm": {
     "name": "#%%\n"
    }
   },
   "outputs": [],
   "source": [
    "from selenium import webdriver\n",
    "from selenium.common.exceptions import TimeoutException\n",
    "from selenium.webdriver.support.ui import WebDriverWait\n",
    "from selenium.webdriver.support import expected_conditions as EC\n",
    "from selenium.webdriver.common.by import By\n",
    "from time import sleep\n"
   ]
  },
  {
   "cell_type": "code",
   "execution_count": 28,
   "metadata": {
    "pycharm": {
     "name": "#%%\n"
    }
   },
   "outputs": [],
   "source": [
    "# 啟動瀏覽器工具的選項\n",
    "options = webdriver.ChromeOptions()\n",
    "\n",
    "options.add_argument(\"--incognito\")               #開啟無痕模式\n",
    "\n",
    "url=\"http://irs.thsrc.com.tw/IMINT\"\n",
    "driver=webdriver.Chrome(options = options)\n",
    "\n",
    "def visit():\n",
    "\n",
    "    driver.get(url)\n",
    "\n",
    "    driver.find_element(By.CSS_SELECTOR,\"input#btn-confirm\").click()\n",
    "    sleep(0.5)\n",
    "    \n",
    "#輸入資訊\n",
    "def search():\n",
    "    #起程站\n",
    "    driver.find_element_by_name('selectStartStation').click()\n",
    "    sleep(0.5)\n",
    "    \n",
    "    driver.find_element(By.CSS_SELECTOR,\"option[value='2']\").click()\n",
    "    sleep(0.5)\n",
    "    \n",
    "    #到達站\n",
    "    driver.find_element_by_name('selectDestinationStation').click()\n",
    "    sleep(1)\n",
    "    \n",
    "    driver.find_element(By.CSS_SELECTOR,\"select[name='selectDestinationStation'] option[value='12']\").click()\n",
    "    sleep(0.5)\n",
    "    \n",
    "    #時間\n",
    "    toDate = driver.find_element(By.CSS_SELECTOR, \"span#toDate input#toTimeInputField\")\n",
    "    tpDate.clear()\n",
    "    toDate.send_keys(\"2021/05/11\")\n",
    "    sleep(0.5)\n",
    "    \n",
    "    \n",
    "\n",
    "# 主程式\n",
    "if __name__ == '__main__':\n",
    "    visit()\n",
    "    search()"
   ]
  },
  {
   "cell_type": "code",
   "execution_count": null,
   "metadata": {},
   "outputs": [],
   "source": []
  }
 ],
 "metadata": {
  "kernelspec": {
   "display_name": "Python 3",
   "language": "python",
   "name": "python3"
  },
  "language_info": {
   "codemirror_mode": {
    "name": "ipython",
    "version": 3
   },
   "file_extension": ".py",
   "mimetype": "text/x-python",
   "name": "python",
   "nbconvert_exporter": "python",
   "pygments_lexer": "ipython3",
   "version": "3.7.10"
  }
 },
 "nbformat": 4,
 "nbformat_minor": 1
}
